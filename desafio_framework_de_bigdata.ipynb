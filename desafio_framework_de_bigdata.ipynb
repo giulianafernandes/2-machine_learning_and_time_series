{
  "nbformat": 4,
  "nbformat_minor": 0,
  "metadata": {
    "colab": {
      "provenance": [],
      "mount_file_id": "10VHgNBw1CDnZIg_BqMJY1bURZnLOSHQv",
      "authorship_tag": "ABX9TyMmcwLv1Pnqy5pUmpLGL8BQ"
    },
    "kernelspec": {
      "name": "python3",
      "display_name": "Python 3"
    },
    "language_info": {
      "name": "python"
    }
  },
  "cells": [
    {
      "cell_type": "code",
      "execution_count": 1,
      "metadata": {
        "colab": {
          "base_uri": "https://localhost:8080/"
        },
        "id": "20jO5jvaUNsE",
        "outputId": "2c5f3fd5-dd84-4ea2-c86d-bf094fb439ae"
      },
      "outputs": [
        {
          "output_type": "stream",
          "name": "stdout",
          "text": [
            "Collecting pyspark\n",
            "  Downloading pyspark-3.5.1.tar.gz (317.0 MB)\n",
            "\u001b[2K     \u001b[90m━━━━━━━━━━━━━━━━━━━━━━━━━━━━━━━━━━━━━━━━\u001b[0m \u001b[32m317.0/317.0 MB\u001b[0m \u001b[31m2.1 MB/s\u001b[0m eta \u001b[36m0:00:00\u001b[0m\n",
            "\u001b[?25h  Preparing metadata (setup.py) ... \u001b[?25l\u001b[?25hdone\n",
            "Requirement already satisfied: py4j==0.10.9.7 in /usr/local/lib/python3.10/dist-packages (from pyspark) (0.10.9.7)\n",
            "Building wheels for collected packages: pyspark\n",
            "  Building wheel for pyspark (setup.py) ... \u001b[?25l\u001b[?25hdone\n",
            "  Created wheel for pyspark: filename=pyspark-3.5.1-py2.py3-none-any.whl size=317488493 sha256=2b14e38829f9d034cb71eebe2df39ce69761711aaca9b6788c1f0057752c1ab2\n",
            "  Stored in directory: /root/.cache/pip/wheels/80/1d/60/2c256ed38dddce2fdd93be545214a63e02fbd8d74fb0b7f3a6\n",
            "Successfully built pyspark\n",
            "Installing collected packages: pyspark\n",
            "Successfully installed pyspark-3.5.1\n"
          ]
        }
      ],
      "source": [
        "!pip install pyspark"
      ]
    },
    {
      "cell_type": "code",
      "source": [
        "!pip install findspark"
      ],
      "metadata": {
        "colab": {
          "base_uri": "https://localhost:8080/"
        },
        "id": "nqkr0_R5VcH1",
        "outputId": "1ae8ac64-179a-47d1-8445-2390cde4537a"
      },
      "execution_count": 2,
      "outputs": [
        {
          "output_type": "stream",
          "name": "stdout",
          "text": [
            "Collecting findspark\n",
            "  Downloading findspark-2.0.1-py2.py3-none-any.whl (4.4 kB)\n",
            "Installing collected packages: findspark\n",
            "Successfully installed findspark-2.0.1\n"
          ]
        }
      ]
    },
    {
      "cell_type": "code",
      "source": [
        "from pyspark.sql import SparkSession\n",
        "spark = SparkSession.builder \\\n",
        "     .master('local[*]') \\\n",
        "     .appName('Combustíveis Automotivos') \\\n",
        "     .getOrCreate()"
      ],
      "metadata": {
        "id": "siEGC9KBZ2Eh"
      },
      "execution_count": 3,
      "outputs": []
    },
    {
      "cell_type": "code",
      "source": [
        "from google.colab import drive\n",
        "drive.mount('/content/drive')"
      ],
      "metadata": {
        "id": "-KH_bNT5aTWe",
        "colab": {
          "base_uri": "https://localhost:8080/"
        },
        "outputId": "b72f9e77-bab3-4035-ab96-2a17e2f5548f"
      },
      "execution_count": 4,
      "outputs": [
        {
          "output_type": "stream",
          "name": "stdout",
          "text": [
            "Drive already mounted at /content/drive; to attempt to forcibly remount, call drive.mount(\"/content/drive\", force_remount=True).\n"
          ]
        }
      ]
    },
    {
      "cell_type": "code",
      "source": [
        "# path = '/content/drive/MyDrive/dados-combustiveis_automotivos'\n",
        "# combustiveis_automotivos = spark.read.csv(path, sep=';', inferSchema=True)"
      ],
      "metadata": {
        "id": "m8FGJ3o14SIP"
      },
      "execution_count": 13,
      "outputs": []
    },
    {
      "cell_type": "code",
      "source": [
        "# combustiveis_automotivos.limit(5).show()"
      ],
      "metadata": {
        "colab": {
          "base_uri": "https://localhost:8080/"
        },
        "id": "c3JKhk404vOE",
        "outputId": "5266d301-e724-41a9-bf87-96038d6d5dad"
      },
      "execution_count": 14,
      "outputs": [
        {
          "output_type": "stream",
          "name": "stdout",
          "text": [
            "+--------------+--------------+-----------+--------------------+-------------------+--------------------+----------+-----------+--------------+---------+--------+--------------+--------------+---------------+-----------------+--------+\n",
            "|           _c0|           _c1|        _c2|                 _c3|                _c4|                 _c5|       _c6|        _c7|           _c8|      _c9|    _c10|          _c11|          _c12|           _c13|             _c14|    _c15|\n",
            "+--------------+--------------+-----------+--------------------+-------------------+--------------------+----------+-----------+--------------+---------+--------+--------------+--------------+---------------+-----------------+--------+\n",
            "|Regiao - Sigla|Estado - Sigla|  Municipio|             Revenda|    CNPJ da Revenda|         Nome da Rua|Numero Rua|Complemento|        Bairro|      Cep| Produto|Data da Coleta|Valor de Venda|Valor de Compra|Unidade de Medida|Bandeira|\n",
            "|            SE|            SP|   SOROCABA|COMPETRO COMERCIO...| 00.003.188/0001-21|RUA HUMBERTO DE C...|       306|       NULL|JARDIM ZULMIRA|18061-000|GASOLINA|    01/07/2014|          2,74|           2,43|       R$ / litro|  BRANCA|\n",
            "|            SE|            SP|   SOROCABA|COMPETRO COMERCIO...| 00.003.188/0001-21|RUA HUMBERTO DE C...|       306|       NULL|JARDIM ZULMIRA|18061-000|  ETANOL|    01/07/2014|          1,74|         1,5094|       R$ / litro|  BRANCA|\n",
            "|            SE|            SP|   SOROCABA|COMPETRO COMERCIO...| 00.003.188/0001-21|RUA HUMBERTO DE C...|       306|       NULL|JARDIM ZULMIRA|18061-000|  DIESEL|    01/07/2014|          2,36|            2,1|       R$ / litro|  BRANCA|\n",
            "|             S|            PR|PATO BRANCO|SANTOS & MERLO LTDA.| 79.854.667/0001-01|       RUA TOCANTINS|      2535|       NULL|        CENTRO|85501-010|GASOLINA|    02/07/2014|          2,99|           NULL|       R$ / litro|  BRANCA|\n",
            "+--------------+--------------+-----------+--------------------+-------------------+--------------------+----------+-----------+--------------+---------+--------+--------------+--------------+---------------+-----------------+--------+\n",
            "\n"
          ]
        }
      ]
    },
    {
      "cell_type": "code",
      "source": [
        "# carregando o df de combustiveis automotivos pulando a primeira linha\n",
        "combustiveis_automotivos = (spark.read.format(\"csv\"))\\\n",
        "    .option(\"inferSchema\", True)\\\n",
        "    .option(\"header\", True)\\\n",
        "    .option(\"sep\", \";\")\\\n",
        "    .option(\"skipRows\", 1)\\\n",
        "    .load(\"/content/drive/MyDrive/dados-combustiveis_automotivos\")"
      ],
      "metadata": {
        "id": "xiNlja9i40UB"
      },
      "execution_count": 27,
      "outputs": []
    },
    {
      "cell_type": "code",
      "source": [
        "from os import truncate\n",
        "combustiveis_automotivos.limit(10).toPandas()"
      ],
      "metadata": {
        "colab": {
          "base_uri": "https://localhost:8080/",
          "height": 817
        },
        "id": "zrIfDgp2IlaZ",
        "outputId": "3c20b3fc-93ca-4402-c715-57b64e1a5714"
      },
      "execution_count": 33,
      "outputs": [
        {
          "output_type": "execute_result",
          "data": {
            "text/plain": [
              "  Regiao - Sigla Estado - Sigla        Municipio  \\\n",
              "0             SE             SP         SOROCABA   \n",
              "1             SE             SP         SOROCABA   \n",
              "2             SE             SP         SOROCABA   \n",
              "3              S             PR      PATO BRANCO   \n",
              "4              S             PR      PATO BRANCO   \n",
              "5              S             PR      PATO BRANCO   \n",
              "6              N             AC  CRUZEIRO DO SUL   \n",
              "7              N             AC  CRUZEIRO DO SUL   \n",
              "8              N             AC  CRUZEIRO DO SUL   \n",
              "9              N             AC  CRUZEIRO DO SUL   \n",
              "\n",
              "                                             Revenda      CNPJ da Revenda  \\\n",
              "0  COMPETRO COMERCIO E DISTRIBUICAO DE DERIVADOS ...   00.003.188/0001-21   \n",
              "1  COMPETRO COMERCIO E DISTRIBUICAO DE DERIVADOS ...   00.003.188/0001-21   \n",
              "2  COMPETRO COMERCIO E DISTRIBUICAO DE DERIVADOS ...   00.003.188/0001-21   \n",
              "3                               SANTOS & MERLO LTDA.   79.854.667/0001-01   \n",
              "4                               SANTOS & MERLO LTDA.   79.854.667/0001-01   \n",
              "5                               SANTOS & MERLO LTDA.   79.854.667/0001-01   \n",
              "6                           CARDINAL E OLIVEIRA LTDA   03.608.766/0005-75   \n",
              "7                           CARDINAL E OLIVEIRA LTDA   03.608.766/0005-75   \n",
              "8                           CARDINAL E OLIVEIRA LTDA   03.608.766/0006-56   \n",
              "9                           CARDINAL E OLIVEIRA LTDA   03.608.766/0006-56   \n",
              "\n",
              "                     Nome da Rua Numero Rua Complemento          Bairro  \\\n",
              "0         RUA HUMBERTO DE CAMPOS        306        None  JARDIM ZULMIRA   \n",
              "1         RUA HUMBERTO DE CAMPOS        306        None  JARDIM ZULMIRA   \n",
              "2         RUA HUMBERTO DE CAMPOS        306        None  JARDIM ZULMIRA   \n",
              "3                  RUA TOCANTINS       2535        None          CENTRO   \n",
              "4                  RUA TOCANTINS       2535        None          CENTRO   \n",
              "5                  RUA TOCANTINS       2535        None          CENTRO   \n",
              "6  AVENIDA BOULEVARD THAUMATURGO       1031        None          CENTRO   \n",
              "7  AVENIDA BOULEVARD THAUMATURGO       1031        None          CENTRO   \n",
              "8           AVENIDA 25 DE AGOSTO       1350        None    25 DE AGOSTO   \n",
              "9           AVENIDA 25 DE AGOSTO       1350        None    25 DE AGOSTO   \n",
              "\n",
              "         Cep     Produto Data da Coleta Valor de Venda Valor de Compra  \\\n",
              "0  18061-000    GASOLINA     01/07/2014           2,74            2,43   \n",
              "1  18061-000      ETANOL     01/07/2014           1,74          1,5094   \n",
              "2  18061-000      DIESEL     01/07/2014           2,36             2,1   \n",
              "3  85501-010    GASOLINA     02/07/2014           2,99            None   \n",
              "4  85501-010      ETANOL     02/07/2014           2,19            None   \n",
              "5  85501-010  DIESEL S10     02/07/2014           2,58            None   \n",
              "6  69980-000    GASOLINA     01/07/2014           3,79            None   \n",
              "7  69980-000      DIESEL     01/07/2014           3,31            None   \n",
              "8  69980-000    GASOLINA     01/07/2014           3,79            3,15   \n",
              "9  69980-000      DIESEL     01/07/2014           3,31          2,7351   \n",
              "\n",
              "  Unidade de Medida                      Bandeira  \n",
              "0        R$ / litro                        BRANCA  \n",
              "1        R$ / litro                        BRANCA  \n",
              "2        R$ / litro                        BRANCA  \n",
              "3        R$ / litro                        BRANCA  \n",
              "4        R$ / litro                        BRANCA  \n",
              "5        R$ / litro                        BRANCA  \n",
              "6        R$ / litro  PETROBRAS DISTRIBUIDORA S.A.  \n",
              "7        R$ / litro  PETROBRAS DISTRIBUIDORA S.A.  \n",
              "8        R$ / litro  PETROBRAS DISTRIBUIDORA S.A.  \n",
              "9        R$ / litro  PETROBRAS DISTRIBUIDORA S.A.  "
            ],
            "text/html": [
              "\n",
              "  <div id=\"df-5b75ea91-0fb6-4a87-ba49-9956349f2751\" class=\"colab-df-container\">\n",
              "    <div>\n",
              "<style scoped>\n",
              "    .dataframe tbody tr th:only-of-type {\n",
              "        vertical-align: middle;\n",
              "    }\n",
              "\n",
              "    .dataframe tbody tr th {\n",
              "        vertical-align: top;\n",
              "    }\n",
              "\n",
              "    .dataframe thead th {\n",
              "        text-align: right;\n",
              "    }\n",
              "</style>\n",
              "<table border=\"1\" class=\"dataframe\">\n",
              "  <thead>\n",
              "    <tr style=\"text-align: right;\">\n",
              "      <th></th>\n",
              "      <th>Regiao - Sigla</th>\n",
              "      <th>Estado - Sigla</th>\n",
              "      <th>Municipio</th>\n",
              "      <th>Revenda</th>\n",
              "      <th>CNPJ da Revenda</th>\n",
              "      <th>Nome da Rua</th>\n",
              "      <th>Numero Rua</th>\n",
              "      <th>Complemento</th>\n",
              "      <th>Bairro</th>\n",
              "      <th>Cep</th>\n",
              "      <th>Produto</th>\n",
              "      <th>Data da Coleta</th>\n",
              "      <th>Valor de Venda</th>\n",
              "      <th>Valor de Compra</th>\n",
              "      <th>Unidade de Medida</th>\n",
              "      <th>Bandeira</th>\n",
              "    </tr>\n",
              "  </thead>\n",
              "  <tbody>\n",
              "    <tr>\n",
              "      <th>0</th>\n",
              "      <td>SE</td>\n",
              "      <td>SP</td>\n",
              "      <td>SOROCABA</td>\n",
              "      <td>COMPETRO COMERCIO E DISTRIBUICAO DE DERIVADOS ...</td>\n",
              "      <td>00.003.188/0001-21</td>\n",
              "      <td>RUA HUMBERTO DE CAMPOS</td>\n",
              "      <td>306</td>\n",
              "      <td>None</td>\n",
              "      <td>JARDIM ZULMIRA</td>\n",
              "      <td>18061-000</td>\n",
              "      <td>GASOLINA</td>\n",
              "      <td>01/07/2014</td>\n",
              "      <td>2,74</td>\n",
              "      <td>2,43</td>\n",
              "      <td>R$ / litro</td>\n",
              "      <td>BRANCA</td>\n",
              "    </tr>\n",
              "    <tr>\n",
              "      <th>1</th>\n",
              "      <td>SE</td>\n",
              "      <td>SP</td>\n",
              "      <td>SOROCABA</td>\n",
              "      <td>COMPETRO COMERCIO E DISTRIBUICAO DE DERIVADOS ...</td>\n",
              "      <td>00.003.188/0001-21</td>\n",
              "      <td>RUA HUMBERTO DE CAMPOS</td>\n",
              "      <td>306</td>\n",
              "      <td>None</td>\n",
              "      <td>JARDIM ZULMIRA</td>\n",
              "      <td>18061-000</td>\n",
              "      <td>ETANOL</td>\n",
              "      <td>01/07/2014</td>\n",
              "      <td>1,74</td>\n",
              "      <td>1,5094</td>\n",
              "      <td>R$ / litro</td>\n",
              "      <td>BRANCA</td>\n",
              "    </tr>\n",
              "    <tr>\n",
              "      <th>2</th>\n",
              "      <td>SE</td>\n",
              "      <td>SP</td>\n",
              "      <td>SOROCABA</td>\n",
              "      <td>COMPETRO COMERCIO E DISTRIBUICAO DE DERIVADOS ...</td>\n",
              "      <td>00.003.188/0001-21</td>\n",
              "      <td>RUA HUMBERTO DE CAMPOS</td>\n",
              "      <td>306</td>\n",
              "      <td>None</td>\n",
              "      <td>JARDIM ZULMIRA</td>\n",
              "      <td>18061-000</td>\n",
              "      <td>DIESEL</td>\n",
              "      <td>01/07/2014</td>\n",
              "      <td>2,36</td>\n",
              "      <td>2,1</td>\n",
              "      <td>R$ / litro</td>\n",
              "      <td>BRANCA</td>\n",
              "    </tr>\n",
              "    <tr>\n",
              "      <th>3</th>\n",
              "      <td>S</td>\n",
              "      <td>PR</td>\n",
              "      <td>PATO BRANCO</td>\n",
              "      <td>SANTOS &amp; MERLO LTDA.</td>\n",
              "      <td>79.854.667/0001-01</td>\n",
              "      <td>RUA TOCANTINS</td>\n",
              "      <td>2535</td>\n",
              "      <td>None</td>\n",
              "      <td>CENTRO</td>\n",
              "      <td>85501-010</td>\n",
              "      <td>GASOLINA</td>\n",
              "      <td>02/07/2014</td>\n",
              "      <td>2,99</td>\n",
              "      <td>None</td>\n",
              "      <td>R$ / litro</td>\n",
              "      <td>BRANCA</td>\n",
              "    </tr>\n",
              "    <tr>\n",
              "      <th>4</th>\n",
              "      <td>S</td>\n",
              "      <td>PR</td>\n",
              "      <td>PATO BRANCO</td>\n",
              "      <td>SANTOS &amp; MERLO LTDA.</td>\n",
              "      <td>79.854.667/0001-01</td>\n",
              "      <td>RUA TOCANTINS</td>\n",
              "      <td>2535</td>\n",
              "      <td>None</td>\n",
              "      <td>CENTRO</td>\n",
              "      <td>85501-010</td>\n",
              "      <td>ETANOL</td>\n",
              "      <td>02/07/2014</td>\n",
              "      <td>2,19</td>\n",
              "      <td>None</td>\n",
              "      <td>R$ / litro</td>\n",
              "      <td>BRANCA</td>\n",
              "    </tr>\n",
              "    <tr>\n",
              "      <th>5</th>\n",
              "      <td>S</td>\n",
              "      <td>PR</td>\n",
              "      <td>PATO BRANCO</td>\n",
              "      <td>SANTOS &amp; MERLO LTDA.</td>\n",
              "      <td>79.854.667/0001-01</td>\n",
              "      <td>RUA TOCANTINS</td>\n",
              "      <td>2535</td>\n",
              "      <td>None</td>\n",
              "      <td>CENTRO</td>\n",
              "      <td>85501-010</td>\n",
              "      <td>DIESEL S10</td>\n",
              "      <td>02/07/2014</td>\n",
              "      <td>2,58</td>\n",
              "      <td>None</td>\n",
              "      <td>R$ / litro</td>\n",
              "      <td>BRANCA</td>\n",
              "    </tr>\n",
              "    <tr>\n",
              "      <th>6</th>\n",
              "      <td>N</td>\n",
              "      <td>AC</td>\n",
              "      <td>CRUZEIRO DO SUL</td>\n",
              "      <td>CARDINAL E OLIVEIRA LTDA</td>\n",
              "      <td>03.608.766/0005-75</td>\n",
              "      <td>AVENIDA BOULEVARD THAUMATURGO</td>\n",
              "      <td>1031</td>\n",
              "      <td>None</td>\n",
              "      <td>CENTRO</td>\n",
              "      <td>69980-000</td>\n",
              "      <td>GASOLINA</td>\n",
              "      <td>01/07/2014</td>\n",
              "      <td>3,79</td>\n",
              "      <td>None</td>\n",
              "      <td>R$ / litro</td>\n",
              "      <td>PETROBRAS DISTRIBUIDORA S.A.</td>\n",
              "    </tr>\n",
              "    <tr>\n",
              "      <th>7</th>\n",
              "      <td>N</td>\n",
              "      <td>AC</td>\n",
              "      <td>CRUZEIRO DO SUL</td>\n",
              "      <td>CARDINAL E OLIVEIRA LTDA</td>\n",
              "      <td>03.608.766/0005-75</td>\n",
              "      <td>AVENIDA BOULEVARD THAUMATURGO</td>\n",
              "      <td>1031</td>\n",
              "      <td>None</td>\n",
              "      <td>CENTRO</td>\n",
              "      <td>69980-000</td>\n",
              "      <td>DIESEL</td>\n",
              "      <td>01/07/2014</td>\n",
              "      <td>3,31</td>\n",
              "      <td>None</td>\n",
              "      <td>R$ / litro</td>\n",
              "      <td>PETROBRAS DISTRIBUIDORA S.A.</td>\n",
              "    </tr>\n",
              "    <tr>\n",
              "      <th>8</th>\n",
              "      <td>N</td>\n",
              "      <td>AC</td>\n",
              "      <td>CRUZEIRO DO SUL</td>\n",
              "      <td>CARDINAL E OLIVEIRA LTDA</td>\n",
              "      <td>03.608.766/0006-56</td>\n",
              "      <td>AVENIDA 25 DE AGOSTO</td>\n",
              "      <td>1350</td>\n",
              "      <td>None</td>\n",
              "      <td>25 DE AGOSTO</td>\n",
              "      <td>69980-000</td>\n",
              "      <td>GASOLINA</td>\n",
              "      <td>01/07/2014</td>\n",
              "      <td>3,79</td>\n",
              "      <td>3,15</td>\n",
              "      <td>R$ / litro</td>\n",
              "      <td>PETROBRAS DISTRIBUIDORA S.A.</td>\n",
              "    </tr>\n",
              "    <tr>\n",
              "      <th>9</th>\n",
              "      <td>N</td>\n",
              "      <td>AC</td>\n",
              "      <td>CRUZEIRO DO SUL</td>\n",
              "      <td>CARDINAL E OLIVEIRA LTDA</td>\n",
              "      <td>03.608.766/0006-56</td>\n",
              "      <td>AVENIDA 25 DE AGOSTO</td>\n",
              "      <td>1350</td>\n",
              "      <td>None</td>\n",
              "      <td>25 DE AGOSTO</td>\n",
              "      <td>69980-000</td>\n",
              "      <td>DIESEL</td>\n",
              "      <td>01/07/2014</td>\n",
              "      <td>3,31</td>\n",
              "      <td>2,7351</td>\n",
              "      <td>R$ / litro</td>\n",
              "      <td>PETROBRAS DISTRIBUIDORA S.A.</td>\n",
              "    </tr>\n",
              "  </tbody>\n",
              "</table>\n",
              "</div>\n",
              "    <div class=\"colab-df-buttons\">\n",
              "\n",
              "  <div class=\"colab-df-container\">\n",
              "    <button class=\"colab-df-convert\" onclick=\"convertToInteractive('df-5b75ea91-0fb6-4a87-ba49-9956349f2751')\"\n",
              "            title=\"Convert this dataframe to an interactive table.\"\n",
              "            style=\"display:none;\">\n",
              "\n",
              "  <svg xmlns=\"http://www.w3.org/2000/svg\" height=\"24px\" viewBox=\"0 -960 960 960\">\n",
              "    <path d=\"M120-120v-720h720v720H120Zm60-500h600v-160H180v160Zm220 220h160v-160H400v160Zm0 220h160v-160H400v160ZM180-400h160v-160H180v160Zm440 0h160v-160H620v160ZM180-180h160v-160H180v160Zm440 0h160v-160H620v160Z\"/>\n",
              "  </svg>\n",
              "    </button>\n",
              "\n",
              "  <style>\n",
              "    .colab-df-container {\n",
              "      display:flex;\n",
              "      gap: 12px;\n",
              "    }\n",
              "\n",
              "    .colab-df-convert {\n",
              "      background-color: #E8F0FE;\n",
              "      border: none;\n",
              "      border-radius: 50%;\n",
              "      cursor: pointer;\n",
              "      display: none;\n",
              "      fill: #1967D2;\n",
              "      height: 32px;\n",
              "      padding: 0 0 0 0;\n",
              "      width: 32px;\n",
              "    }\n",
              "\n",
              "    .colab-df-convert:hover {\n",
              "      background-color: #E2EBFA;\n",
              "      box-shadow: 0px 1px 2px rgba(60, 64, 67, 0.3), 0px 1px 3px 1px rgba(60, 64, 67, 0.15);\n",
              "      fill: #174EA6;\n",
              "    }\n",
              "\n",
              "    .colab-df-buttons div {\n",
              "      margin-bottom: 4px;\n",
              "    }\n",
              "\n",
              "    [theme=dark] .colab-df-convert {\n",
              "      background-color: #3B4455;\n",
              "      fill: #D2E3FC;\n",
              "    }\n",
              "\n",
              "    [theme=dark] .colab-df-convert:hover {\n",
              "      background-color: #434B5C;\n",
              "      box-shadow: 0px 1px 3px 1px rgba(0, 0, 0, 0.15);\n",
              "      filter: drop-shadow(0px 1px 2px rgba(0, 0, 0, 0.3));\n",
              "      fill: #FFFFFF;\n",
              "    }\n",
              "  </style>\n",
              "\n",
              "    <script>\n",
              "      const buttonEl =\n",
              "        document.querySelector('#df-5b75ea91-0fb6-4a87-ba49-9956349f2751 button.colab-df-convert');\n",
              "      buttonEl.style.display =\n",
              "        google.colab.kernel.accessAllowed ? 'block' : 'none';\n",
              "\n",
              "      async function convertToInteractive(key) {\n",
              "        const element = document.querySelector('#df-5b75ea91-0fb6-4a87-ba49-9956349f2751');\n",
              "        const dataTable =\n",
              "          await google.colab.kernel.invokeFunction('convertToInteractive',\n",
              "                                                    [key], {});\n",
              "        if (!dataTable) return;\n",
              "\n",
              "        const docLinkHtml = 'Like what you see? Visit the ' +\n",
              "          '<a target=\"_blank\" href=https://colab.research.google.com/notebooks/data_table.ipynb>data table notebook</a>'\n",
              "          + ' to learn more about interactive tables.';\n",
              "        element.innerHTML = '';\n",
              "        dataTable['output_type'] = 'display_data';\n",
              "        await google.colab.output.renderOutput(dataTable, element);\n",
              "        const docLink = document.createElement('div');\n",
              "        docLink.innerHTML = docLinkHtml;\n",
              "        element.appendChild(docLink);\n",
              "      }\n",
              "    </script>\n",
              "  </div>\n",
              "\n",
              "\n",
              "<div id=\"df-768c1c5e-4e84-4072-a5e9-b2f30774fe83\">\n",
              "  <button class=\"colab-df-quickchart\" onclick=\"quickchart('df-768c1c5e-4e84-4072-a5e9-b2f30774fe83')\"\n",
              "            title=\"Suggest charts\"\n",
              "            style=\"display:none;\">\n",
              "\n",
              "<svg xmlns=\"http://www.w3.org/2000/svg\" height=\"24px\"viewBox=\"0 0 24 24\"\n",
              "     width=\"24px\">\n",
              "    <g>\n",
              "        <path d=\"M19 3H5c-1.1 0-2 .9-2 2v14c0 1.1.9 2 2 2h14c1.1 0 2-.9 2-2V5c0-1.1-.9-2-2-2zM9 17H7v-7h2v7zm4 0h-2V7h2v10zm4 0h-2v-4h2v4z\"/>\n",
              "    </g>\n",
              "</svg>\n",
              "  </button>\n",
              "\n",
              "<style>\n",
              "  .colab-df-quickchart {\n",
              "      --bg-color: #E8F0FE;\n",
              "      --fill-color: #1967D2;\n",
              "      --hover-bg-color: #E2EBFA;\n",
              "      --hover-fill-color: #174EA6;\n",
              "      --disabled-fill-color: #AAA;\n",
              "      --disabled-bg-color: #DDD;\n",
              "  }\n",
              "\n",
              "  [theme=dark] .colab-df-quickchart {\n",
              "      --bg-color: #3B4455;\n",
              "      --fill-color: #D2E3FC;\n",
              "      --hover-bg-color: #434B5C;\n",
              "      --hover-fill-color: #FFFFFF;\n",
              "      --disabled-bg-color: #3B4455;\n",
              "      --disabled-fill-color: #666;\n",
              "  }\n",
              "\n",
              "  .colab-df-quickchart {\n",
              "    background-color: var(--bg-color);\n",
              "    border: none;\n",
              "    border-radius: 50%;\n",
              "    cursor: pointer;\n",
              "    display: none;\n",
              "    fill: var(--fill-color);\n",
              "    height: 32px;\n",
              "    padding: 0;\n",
              "    width: 32px;\n",
              "  }\n",
              "\n",
              "  .colab-df-quickchart:hover {\n",
              "    background-color: var(--hover-bg-color);\n",
              "    box-shadow: 0 1px 2px rgba(60, 64, 67, 0.3), 0 1px 3px 1px rgba(60, 64, 67, 0.15);\n",
              "    fill: var(--button-hover-fill-color);\n",
              "  }\n",
              "\n",
              "  .colab-df-quickchart-complete:disabled,\n",
              "  .colab-df-quickchart-complete:disabled:hover {\n",
              "    background-color: var(--disabled-bg-color);\n",
              "    fill: var(--disabled-fill-color);\n",
              "    box-shadow: none;\n",
              "  }\n",
              "\n",
              "  .colab-df-spinner {\n",
              "    border: 2px solid var(--fill-color);\n",
              "    border-color: transparent;\n",
              "    border-bottom-color: var(--fill-color);\n",
              "    animation:\n",
              "      spin 1s steps(1) infinite;\n",
              "  }\n",
              "\n",
              "  @keyframes spin {\n",
              "    0% {\n",
              "      border-color: transparent;\n",
              "      border-bottom-color: var(--fill-color);\n",
              "      border-left-color: var(--fill-color);\n",
              "    }\n",
              "    20% {\n",
              "      border-color: transparent;\n",
              "      border-left-color: var(--fill-color);\n",
              "      border-top-color: var(--fill-color);\n",
              "    }\n",
              "    30% {\n",
              "      border-color: transparent;\n",
              "      border-left-color: var(--fill-color);\n",
              "      border-top-color: var(--fill-color);\n",
              "      border-right-color: var(--fill-color);\n",
              "    }\n",
              "    40% {\n",
              "      border-color: transparent;\n",
              "      border-right-color: var(--fill-color);\n",
              "      border-top-color: var(--fill-color);\n",
              "    }\n",
              "    60% {\n",
              "      border-color: transparent;\n",
              "      border-right-color: var(--fill-color);\n",
              "    }\n",
              "    80% {\n",
              "      border-color: transparent;\n",
              "      border-right-color: var(--fill-color);\n",
              "      border-bottom-color: var(--fill-color);\n",
              "    }\n",
              "    90% {\n",
              "      border-color: transparent;\n",
              "      border-bottom-color: var(--fill-color);\n",
              "    }\n",
              "  }\n",
              "</style>\n",
              "\n",
              "  <script>\n",
              "    async function quickchart(key) {\n",
              "      const quickchartButtonEl =\n",
              "        document.querySelector('#' + key + ' button');\n",
              "      quickchartButtonEl.disabled = true;  // To prevent multiple clicks.\n",
              "      quickchartButtonEl.classList.add('colab-df-spinner');\n",
              "      try {\n",
              "        const charts = await google.colab.kernel.invokeFunction(\n",
              "            'suggestCharts', [key], {});\n",
              "      } catch (error) {\n",
              "        console.error('Error during call to suggestCharts:', error);\n",
              "      }\n",
              "      quickchartButtonEl.classList.remove('colab-df-spinner');\n",
              "      quickchartButtonEl.classList.add('colab-df-quickchart-complete');\n",
              "    }\n",
              "    (() => {\n",
              "      let quickchartButtonEl =\n",
              "        document.querySelector('#df-768c1c5e-4e84-4072-a5e9-b2f30774fe83 button');\n",
              "      quickchartButtonEl.style.display =\n",
              "        google.colab.kernel.accessAllowed ? 'block' : 'none';\n",
              "    })();\n",
              "  </script>\n",
              "</div>\n",
              "\n",
              "    </div>\n",
              "  </div>\n"
            ],
            "application/vnd.google.colaboratory.intrinsic+json": {
              "type": "dataframe",
              "repr_error": "'str' object has no attribute 'empty'"
            }
          },
          "metadata": {},
          "execution_count": 33
        }
      ]
    },
    {
      "cell_type": "code",
      "source": [
        "combustiveis_automotivos.count()"
      ],
      "metadata": {
        "colab": {
          "base_uri": "https://localhost:8080/"
        },
        "id": "y-K9FeclIp5O",
        "outputId": "9bdf563c-7862-482c-affd-d24856dc8976"
      },
      "execution_count": 17,
      "outputs": [
        {
          "output_type": "execute_result",
          "data": {
            "text/plain": [
              "10738207"
            ]
          },
          "metadata": {},
          "execution_count": 17
        }
      ]
    },
    {
      "cell_type": "code",
      "source": [
        "combustiveis_automotivos.printSchema()"
      ],
      "metadata": {
        "colab": {
          "base_uri": "https://localhost:8080/"
        },
        "id": "rqooC5A3JT27",
        "outputId": "4a902a4f-afa3-42ea-a5fe-9c31424ac033"
      },
      "execution_count": 18,
      "outputs": [
        {
          "output_type": "stream",
          "name": "stdout",
          "text": [
            "root\n",
            " |-- Regiao - Sigla: string (nullable = true)\n",
            " |-- Estado - Sigla: string (nullable = true)\n",
            " |-- Municipio: string (nullable = true)\n",
            " |-- Revenda: string (nullable = true)\n",
            " |-- CNPJ da Revenda: string (nullable = true)\n",
            " |-- Nome da Rua: string (nullable = true)\n",
            " |-- Numero Rua: string (nullable = true)\n",
            " |-- Complemento: string (nullable = true)\n",
            " |-- Bairro: string (nullable = true)\n",
            " |-- Cep: string (nullable = true)\n",
            " |-- Produto: string (nullable = true)\n",
            " |-- Data da Coleta: string (nullable = true)\n",
            " |-- Valor de Venda: string (nullable = true)\n",
            " |-- Valor de Compra: string (nullable = true)\n",
            " |-- Unidade de Medida: string (nullable = true)\n",
            " |-- Bandeira: string (nullable = true)\n",
            "\n"
          ]
        }
      ]
    },
    {
      "cell_type": "code",
      "source": [
        "# carregando o df de glp\n",
        "glp = (spark.read.format(\"csv\"))\\\n",
        "    .option(\"inferSchema\", True)\\\n",
        "    .option(\"header\", True)\\\n",
        "    .option(\"sep\", \";\")\\\n",
        "    .load(\"/content/drive/MyDrive/GLP\")"
      ],
      "metadata": {
        "id": "rSwLXRT0MVC0"
      },
      "execution_count": 25,
      "outputs": []
    },
    {
      "cell_type": "code",
      "source": [
        "glp.limit(10).show(truncate=False)"
      ],
      "metadata": {
        "colab": {
          "base_uri": "https://localhost:8080/"
        },
        "id": "zs9tm4hLVWL4",
        "outputId": "b6e53590-6288-4845-aff0-c8895f4ca8d6"
      },
      "execution_count": 28,
      "outputs": [
        {
          "output_type": "stream",
          "name": "stdout",
          "text": [
            "+--------------+--------------+---------------------+-----------------------------------------+-------------------+----------------------------------------+----------+------------------------+------------------------------------------+---------+-------+--------------+--------------+---------------+-----------------+--------+\n",
            "|Regiao - Sigla|Estado - Sigla|Municipio            |Revenda                                  |CNPJ da Revenda    |Nome da Rua                             |Numero Rua|Complemento             |Bairro                                    |Cep      |Produto|Data da Coleta|Valor de Venda|Valor de Compra|Unidade de Medida|Bandeira|\n",
            "+--------------+--------------+---------------------+-----------------------------------------+-------------------+----------------------------------------+----------+------------------------+------------------------------------------+---------+-------+--------------+--------------+---------------+-----------------+--------+\n",
            "|CO            |DF            |BRASILIA             |COMPANHIA ULTRAGAZ S A                   | 61.602.199/0058-58|SIN                                     |S/N       |LOTE 3 E 3A SALA 01     |Zona Industrial (Guará)                   |71225-000|GLP    |02/07/2014    |42            |NULL           |R$ / 13 kg       |BRANCA  |\n",
            "|SE            |MG            |IBIRITE              |COPAGAZ DISTRIBUIDORA DE GÁS S/A.        | 03.237.583/0057-11|ESTRADA DO PETROVALE                    |50        |A                       |PETROVALE                                 |32400-000|GLP    |01/07/2014    |50            |NULL           |R$ / 13 kg       |BRANCA  |\n",
            "|NE            |PB            |CABEDELO             |NACIONAL GAS BUTANO DISTRIBUIDORA LTDA   | 06.980.064/0006-97|RUA PREFEITO ENIVALDO FIGUEIREDO MIRANDA|93        |NULL                    |CENTRO                                    |58310-000|GLP    |01/07/2014    |35            |NULL           |R$ / 13 kg       |BRANCA  |\n",
            "|N             |TO            |PALMAS               |PARAGAS DISTRIBUIDORA LTDA.              | 05.840.319/0021-92| RUA SR-05  LOTE 9-A QUADRA 112 SUL, S/N|S/N       |LOTE 9-A, QUADRA 112 SUL|SETOR INDUSTRIAL                          |77110-540|GLP    |02/07/2014    |50            |NULL           |R$ / 13 kg       |BRANCA  |\n",
            "|SE            |SP            |SAO JOSE DO RIO PRETO|SUPERGASBRAS ENERGIA LTDA.               | 19.791.896/0108-31|RUA DOUTOR LEONAN LUÍS ALMEIDA GOUVEIA  |95        |NULL                    |DISTRITO INDUSTRIAL CARLOS ARMANDO E SILVA|15052-750|GLP    |02/07/2014    |43            |18,516         |R$ / 13 kg       |BRANCA  |\n",
            "|SE            |MG            |MURIAE               |SUPERGASBRAS ENERGIA LTDA.               | 19.791.896/0079-62|ESTRADA RIO - BAHIA                     |S/N       |KM 708                  |BARRA                                     |36880-000|GLP    |01/07/2014    |51            |NULL           |R$ / 13 kg       |BRANCA  |\n",
            "|SE            |MG            |TIMOTEO              |SUPERGASBRAS ENERGIA LTDA.               | 19.791.896/0140-71|RODOVIA BR-381                          |S/N.º     |KM 195                  |NUCLEO INDUSTRIAL                         |35180-001|GLP    |01/07/2014    |50            |NULL           |R$ / 13 kg       |BRANCA  |\n",
            "|NE            |CE            |JUAZEIRO DO NORTE    |COMÉRCIO DE PETROLEO COLORADO LTDA       | 00.198.451/0001-85|RUA   DOMINGOS CALAZANS                 |518       |NULL                    |TRIANGULO                                 |63041-130|GLP    |01/07/2014    |39            |NULL           |R$ / 13 kg       |BRANCA  |\n",
            "|S             |RS            |SANTA MARIA          |SANTA LUCIA COMERCIO E PAVIMENTACOES LTDA| 87.305.868/0001-88|RODOVIA RS 509                          |1200      |KM 03                   |JOÃO GOULART                              |97095-000|GLP    |01/07/2014    |43            |NULL           |R$ / 13 kg       |BRANCA  |\n",
            "|NE            |BA            |FEIRA DE SANTANA     |BAHIANA DISTRIBUIDORA DE GÁS LTDA        | 46.395.687/0034-70|AVENIDA . PERNAMBUCO                    |S/N       |NULL                    |FEIRA DE SANTANA                          |44030-090|GLP    |01/07/2014    |39,9          |NULL           |R$ / 13 kg       |BRANCA  |\n",
            "+--------------+--------------+---------------------+-----------------------------------------+-------------------+----------------------------------------+----------+------------------------+------------------------------------------+---------+-------+--------------+--------------+---------------+-----------------+--------+\n",
            "\n"
          ]
        }
      ]
    },
    {
      "cell_type": "code",
      "source": [
        "glp.count()"
      ],
      "metadata": {
        "colab": {
          "base_uri": "https://localhost:8080/"
        },
        "id": "HUkeownoVO1I",
        "outputId": "1e4d2b23-05a1-4c7b-e68f-5672566694e1"
      },
      "execution_count": 30,
      "outputs": [
        {
          "output_type": "execute_result",
          "data": {
            "text/plain": [
              "2819272"
            ]
          },
          "metadata": {},
          "execution_count": 30
        }
      ]
    },
    {
      "cell_type": "code",
      "source": [
        "glp.printSchema()"
      ],
      "metadata": {
        "colab": {
          "base_uri": "https://localhost:8080/"
        },
        "id": "v6Yv3nWKV2JZ",
        "outputId": "40932d7b-b0e3-4743-c6aa-e5f4ecebda3a"
      },
      "execution_count": 31,
      "outputs": [
        {
          "output_type": "stream",
          "name": "stdout",
          "text": [
            "root\n",
            " |-- Regiao - Sigla: string (nullable = true)\n",
            " |-- Estado - Sigla: string (nullable = true)\n",
            " |-- Municipio: string (nullable = true)\n",
            " |-- Revenda: string (nullable = true)\n",
            " |-- CNPJ da Revenda: string (nullable = true)\n",
            " |-- Nome da Rua: string (nullable = true)\n",
            " |-- Numero Rua: string (nullable = true)\n",
            " |-- Complemento: string (nullable = true)\n",
            " |-- Bairro: string (nullable = true)\n",
            " |-- Cep: string (nullable = true)\n",
            " |-- Produto: string (nullable = true)\n",
            " |-- Data da Coleta: string (nullable = true)\n",
            " |-- Valor de Venda: string (nullable = true)\n",
            " |-- Valor de Compra: string (nullable = true)\n",
            " |-- Unidade de Medida: string (nullable = true)\n",
            " |-- Bandeira: string (nullable = true)\n",
            "\n"
          ]
        }
      ]
    },
    {
      "cell_type": "code",
      "source": [],
      "metadata": {
        "id": "ePen5uNTV5Qt"
      },
      "execution_count": null,
      "outputs": []
    }
  ]
}